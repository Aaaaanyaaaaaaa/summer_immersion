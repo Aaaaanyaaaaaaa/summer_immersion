{
 "cells": [
  {
   "cell_type": "code",
   "execution_count": 1,
   "metadata": {},
   "outputs": [],
   "source": [
    "import pandas as pd\n",
    "import scipy.sparse as sparse\n",
    "import numpy as np\n",
    "from scipy.sparse.linalg import spsolve"
   ]
  },
  {
   "cell_type": "code",
   "execution_count": 2,
   "metadata": {},
   "outputs": [
    {
     "name": "stderr",
     "output_type": "stream",
     "text": [
      "/Users/Anna.Rudenko/opt/anaconda3/envs/myenv/lib/python3.8/site-packages/lightfm/_lightfm_fast.py:9: UserWarning: LightFM was compiled without OpenMP support. Only a single thread will be used.\n",
      "  warnings.warn('LightFM was compiled without OpenMP support. '\n"
     ]
    }
   ],
   "source": [
    "from lightfm.evaluation import auc_score"
   ]
  },
  {
   "cell_type": "code",
   "execution_count": 3,
   "metadata": {},
   "outputs": [],
   "source": [
    "from lightfm import LightFM\n",
    "from lightfm.data import Dataset"
   ]
  },
  {
   "cell_type": "code",
   "execution_count": 4,
   "metadata": {},
   "outputs": [
    {
     "data": {
      "text/html": [
       "<div>\n",
       "<style scoped>\n",
       "    .dataframe tbody tr th:only-of-type {\n",
       "        vertical-align: middle;\n",
       "    }\n",
       "\n",
       "    .dataframe tbody tr th {\n",
       "        vertical-align: top;\n",
       "    }\n",
       "\n",
       "    .dataframe thead th {\n",
       "        text-align: right;\n",
       "    }\n",
       "</style>\n",
       "<table border=\"1\" class=\"dataframe\">\n",
       "  <thead>\n",
       "    <tr style=\"text-align: right;\">\n",
       "      <th></th>\n",
       "      <th>CardHolder</th>\n",
       "      <th>ChequeId</th>\n",
       "      <th>CALDAY</th>\n",
       "      <th>Discount</th>\n",
       "      <th>SalesCount</th>\n",
       "      <th>SalesSumma</th>\n",
       "      <th>Material</th>\n",
       "      <th>Subcategory</th>\n",
       "      <th>net_weight</th>\n",
       "      <th>rpa_wgh1</th>\n",
       "      <th>rpa_wgh2</th>\n",
       "      <th>rpa_wgh3</th>\n",
       "      <th>rpa_wgh4</th>\n",
       "      <th>unit_of_wt</th>\n",
       "      <th>vendor</th>\n",
       "      <th>engname_rpa3</th>\n",
       "      <th>engname_rpa2</th>\n",
       "      <th>engname_rpa4</th>\n",
       "      <th>Class</th>\n",
       "    </tr>\n",
       "  </thead>\n",
       "  <tbody>\n",
       "    <tr>\n",
       "      <th>0</th>\n",
       "      <td>10008254</td>\n",
       "      <td>1013172924</td>\n",
       "      <td>20200130</td>\n",
       "      <td>397.28</td>\n",
       "      <td>1.258</td>\n",
       "      <td>927.00</td>\n",
       "      <td>299994</td>\n",
       "      <td>130102</td>\n",
       "      <td>0.0</td>\n",
       "      <td>FOOD</td>\n",
       "      <td>13.0</td>\n",
       "      <td>1301</td>\n",
       "      <td>130102.0</td>\n",
       "      <td>G</td>\n",
       "      <td>NaN</td>\n",
       "      <td>Fresh salmon</td>\n",
       "      <td>Fresh and processed fish products</td>\n",
       "      <td>Cut salmon, service</td>\n",
       "      <td>FOOD</td>\n",
       "    </tr>\n",
       "    <tr>\n",
       "      <th>1</th>\n",
       "      <td>13185016</td>\n",
       "      <td>493914559</td>\n",
       "      <td>20181116</td>\n",
       "      <td>174.99</td>\n",
       "      <td>0.982</td>\n",
       "      <td>755.35</td>\n",
       "      <td>299994</td>\n",
       "      <td>130102</td>\n",
       "      <td>0.0</td>\n",
       "      <td>FOOD</td>\n",
       "      <td>13.0</td>\n",
       "      <td>1301</td>\n",
       "      <td>130102.0</td>\n",
       "      <td>G</td>\n",
       "      <td>NaN</td>\n",
       "      <td>Fresh salmon</td>\n",
       "      <td>Fresh and processed fish products</td>\n",
       "      <td>Cut salmon, service</td>\n",
       "      <td>FOOD</td>\n",
       "    </tr>\n",
       "    <tr>\n",
       "      <th>2</th>\n",
       "      <td>14790718</td>\n",
       "      <td>246904176</td>\n",
       "      <td>20180404</td>\n",
       "      <td>92.96</td>\n",
       "      <td>0.650</td>\n",
       "      <td>522.84</td>\n",
       "      <td>299994</td>\n",
       "      <td>130102</td>\n",
       "      <td>0.0</td>\n",
       "      <td>FOOD</td>\n",
       "      <td>13.0</td>\n",
       "      <td>1301</td>\n",
       "      <td>130102.0</td>\n",
       "      <td>G</td>\n",
       "      <td>NaN</td>\n",
       "      <td>Fresh salmon</td>\n",
       "      <td>Fresh and processed fish products</td>\n",
       "      <td>Cut salmon, service</td>\n",
       "      <td>FOOD</td>\n",
       "    </tr>\n",
       "    <tr>\n",
       "      <th>3</th>\n",
       "      <td>14790718</td>\n",
       "      <td>246904334</td>\n",
       "      <td>20180404</td>\n",
       "      <td>81.33</td>\n",
       "      <td>0.570</td>\n",
       "      <td>458.68</td>\n",
       "      <td>299994</td>\n",
       "      <td>130102</td>\n",
       "      <td>0.0</td>\n",
       "      <td>FOOD</td>\n",
       "      <td>13.0</td>\n",
       "      <td>1301</td>\n",
       "      <td>130102.0</td>\n",
       "      <td>G</td>\n",
       "      <td>NaN</td>\n",
       "      <td>Fresh salmon</td>\n",
       "      <td>Fresh and processed fish products</td>\n",
       "      <td>Cut salmon, service</td>\n",
       "      <td>FOOD</td>\n",
       "    </tr>\n",
       "    <tr>\n",
       "      <th>4</th>\n",
       "      <td>15088785</td>\n",
       "      <td>178450469</td>\n",
       "      <td>20180128</td>\n",
       "      <td>49.90</td>\n",
       "      <td>1.044</td>\n",
       "      <td>939.18</td>\n",
       "      <td>299994</td>\n",
       "      <td>130102</td>\n",
       "      <td>0.0</td>\n",
       "      <td>FOOD</td>\n",
       "      <td>13.0</td>\n",
       "      <td>1301</td>\n",
       "      <td>130102.0</td>\n",
       "      <td>G</td>\n",
       "      <td>NaN</td>\n",
       "      <td>Fresh salmon</td>\n",
       "      <td>Fresh and processed fish products</td>\n",
       "      <td>Cut salmon, service</td>\n",
       "      <td>FOOD</td>\n",
       "    </tr>\n",
       "  </tbody>\n",
       "</table>\n",
       "</div>"
      ],
      "text/plain": [
       "   CardHolder    ChequeId    CALDAY  Discount  SalesCount  SalesSumma  \\\n",
       "0    10008254  1013172924  20200130    397.28       1.258      927.00   \n",
       "1    13185016   493914559  20181116    174.99       0.982      755.35   \n",
       "2    14790718   246904176  20180404     92.96       0.650      522.84   \n",
       "3    14790718   246904334  20180404     81.33       0.570      458.68   \n",
       "4    15088785   178450469  20180128     49.90       1.044      939.18   \n",
       "\n",
       "   Material  Subcategory  net_weight rpa_wgh1  rpa_wgh2  rpa_wgh3  rpa_wgh4  \\\n",
       "0    299994       130102         0.0     FOOD      13.0      1301  130102.0   \n",
       "1    299994       130102         0.0     FOOD      13.0      1301  130102.0   \n",
       "2    299994       130102         0.0     FOOD      13.0      1301  130102.0   \n",
       "3    299994       130102         0.0     FOOD      13.0      1301  130102.0   \n",
       "4    299994       130102         0.0     FOOD      13.0      1301  130102.0   \n",
       "\n",
       "  unit_of_wt  vendor  engname_rpa3                       engname_rpa2  \\\n",
       "0          G     NaN  Fresh salmon  Fresh and processed fish products   \n",
       "1          G     NaN  Fresh salmon  Fresh and processed fish products   \n",
       "2          G     NaN  Fresh salmon  Fresh and processed fish products   \n",
       "3          G     NaN  Fresh salmon  Fresh and processed fish products   \n",
       "4          G     NaN  Fresh salmon  Fresh and processed fish products   \n",
       "\n",
       "          engname_rpa4 Class  \n",
       "0  Cut salmon, service  FOOD  \n",
       "1  Cut salmon, service  FOOD  \n",
       "2  Cut salmon, service  FOOD  \n",
       "3  Cut salmon, service  FOOD  \n",
       "4  Cut salmon, service  FOOD  "
      ]
     },
     "execution_count": 4,
     "metadata": {},
     "output_type": "execute_result"
    }
   ],
   "source": [
    "retail_data = pd.read_csv('res_wo_ind.csv')\n",
    "retail_data.head(5)"
   ]
  },
  {
   "cell_type": "code",
   "execution_count": 23,
   "metadata": {},
   "outputs": [],
   "source": [
    "np.random.seed(0)\n",
    "pct_test = 0.2\n",
    "num_samples = int(np.ceil(pct_test*len(nonzero_pairs)))"
   ]
  },
  {
   "cell_type": "code",
   "execution_count": 28,
   "metadata": {},
   "outputs": [],
   "source": [
    "from scipy.stats import bernoulli\n",
    "# import seaborn as sb\n",
    "\n",
    "data_bern = bernoulli.rvs(size=20,p=0.8)"
   ]
  },
  {
   "cell_type": "code",
   "execution_count": 31,
   "metadata": {},
   "outputs": [
    {
     "data": {
      "text/plain": [
       "(995136, 19)"
      ]
     },
     "execution_count": 31,
     "metadata": {},
     "output_type": "execute_result"
    }
   ],
   "source": [
    "retail_data.shape"
   ]
  },
  {
   "cell_type": "code",
   "execution_count": 33,
   "metadata": {},
   "outputs": [],
   "source": [
    "from scipy.stats import bernoulli\n",
    "def train_test_samples(df, size=995136, p =0.2):\n",
    "    data_bern = bernoulli.rvs(size=size,p=p)\n",
    "    array_to_table = []\n",
    "    for i in data_bern:\n",
    "        if i == 1:\n",
    "            array_to_table.append('test')\n",
    "        else:\n",
    "            array_to_table.append('train')\n",
    "    df['eval_sample'] = array_to_table\n",
    "            \n",
    "            "
   ]
  },
  {
   "cell_type": "code",
   "execution_count": 34,
   "metadata": {},
   "outputs": [
    {
     "data": {
      "text/html": [
       "<div>\n",
       "<style scoped>\n",
       "    .dataframe tbody tr th:only-of-type {\n",
       "        vertical-align: middle;\n",
       "    }\n",
       "\n",
       "    .dataframe tbody tr th {\n",
       "        vertical-align: top;\n",
       "    }\n",
       "\n",
       "    .dataframe thead th {\n",
       "        text-align: right;\n",
       "    }\n",
       "</style>\n",
       "<table border=\"1\" class=\"dataframe\">\n",
       "  <thead>\n",
       "    <tr style=\"text-align: right;\">\n",
       "      <th></th>\n",
       "      <th>CardHolder</th>\n",
       "      <th>ChequeId</th>\n",
       "      <th>CALDAY</th>\n",
       "      <th>Discount</th>\n",
       "      <th>SalesCount</th>\n",
       "      <th>SalesSumma</th>\n",
       "      <th>Material</th>\n",
       "      <th>Subcategory</th>\n",
       "      <th>net_weight</th>\n",
       "      <th>rpa_wgh1</th>\n",
       "      <th>rpa_wgh2</th>\n",
       "      <th>rpa_wgh3</th>\n",
       "      <th>rpa_wgh4</th>\n",
       "      <th>unit_of_wt</th>\n",
       "      <th>vendor</th>\n",
       "      <th>engname_rpa3</th>\n",
       "      <th>engname_rpa2</th>\n",
       "      <th>engname_rpa4</th>\n",
       "      <th>Class</th>\n",
       "      <th>eval_sample</th>\n",
       "    </tr>\n",
       "  </thead>\n",
       "  <tbody>\n",
       "    <tr>\n",
       "      <th>0</th>\n",
       "      <td>10008254</td>\n",
       "      <td>1013172924</td>\n",
       "      <td>20200130</td>\n",
       "      <td>397.28</td>\n",
       "      <td>1.258</td>\n",
       "      <td>927.00</td>\n",
       "      <td>299994</td>\n",
       "      <td>130102</td>\n",
       "      <td>0.0</td>\n",
       "      <td>FOOD</td>\n",
       "      <td>13.0</td>\n",
       "      <td>1301</td>\n",
       "      <td>130102.0</td>\n",
       "      <td>G</td>\n",
       "      <td>NaN</td>\n",
       "      <td>Fresh salmon</td>\n",
       "      <td>Fresh and processed fish products</td>\n",
       "      <td>Cut salmon, service</td>\n",
       "      <td>FOOD</td>\n",
       "      <td>train</td>\n",
       "    </tr>\n",
       "    <tr>\n",
       "      <th>1</th>\n",
       "      <td>13185016</td>\n",
       "      <td>493914559</td>\n",
       "      <td>20181116</td>\n",
       "      <td>174.99</td>\n",
       "      <td>0.982</td>\n",
       "      <td>755.35</td>\n",
       "      <td>299994</td>\n",
       "      <td>130102</td>\n",
       "      <td>0.0</td>\n",
       "      <td>FOOD</td>\n",
       "      <td>13.0</td>\n",
       "      <td>1301</td>\n",
       "      <td>130102.0</td>\n",
       "      <td>G</td>\n",
       "      <td>NaN</td>\n",
       "      <td>Fresh salmon</td>\n",
       "      <td>Fresh and processed fish products</td>\n",
       "      <td>Cut salmon, service</td>\n",
       "      <td>FOOD</td>\n",
       "      <td>train</td>\n",
       "    </tr>\n",
       "    <tr>\n",
       "      <th>2</th>\n",
       "      <td>14790718</td>\n",
       "      <td>246904176</td>\n",
       "      <td>20180404</td>\n",
       "      <td>92.96</td>\n",
       "      <td>0.650</td>\n",
       "      <td>522.84</td>\n",
       "      <td>299994</td>\n",
       "      <td>130102</td>\n",
       "      <td>0.0</td>\n",
       "      <td>FOOD</td>\n",
       "      <td>13.0</td>\n",
       "      <td>1301</td>\n",
       "      <td>130102.0</td>\n",
       "      <td>G</td>\n",
       "      <td>NaN</td>\n",
       "      <td>Fresh salmon</td>\n",
       "      <td>Fresh and processed fish products</td>\n",
       "      <td>Cut salmon, service</td>\n",
       "      <td>FOOD</td>\n",
       "      <td>train</td>\n",
       "    </tr>\n",
       "    <tr>\n",
       "      <th>3</th>\n",
       "      <td>14790718</td>\n",
       "      <td>246904334</td>\n",
       "      <td>20180404</td>\n",
       "      <td>81.33</td>\n",
       "      <td>0.570</td>\n",
       "      <td>458.68</td>\n",
       "      <td>299994</td>\n",
       "      <td>130102</td>\n",
       "      <td>0.0</td>\n",
       "      <td>FOOD</td>\n",
       "      <td>13.0</td>\n",
       "      <td>1301</td>\n",
       "      <td>130102.0</td>\n",
       "      <td>G</td>\n",
       "      <td>NaN</td>\n",
       "      <td>Fresh salmon</td>\n",
       "      <td>Fresh and processed fish products</td>\n",
       "      <td>Cut salmon, service</td>\n",
       "      <td>FOOD</td>\n",
       "      <td>train</td>\n",
       "    </tr>\n",
       "    <tr>\n",
       "      <th>4</th>\n",
       "      <td>15088785</td>\n",
       "      <td>178450469</td>\n",
       "      <td>20180128</td>\n",
       "      <td>49.90</td>\n",
       "      <td>1.044</td>\n",
       "      <td>939.18</td>\n",
       "      <td>299994</td>\n",
       "      <td>130102</td>\n",
       "      <td>0.0</td>\n",
       "      <td>FOOD</td>\n",
       "      <td>13.0</td>\n",
       "      <td>1301</td>\n",
       "      <td>130102.0</td>\n",
       "      <td>G</td>\n",
       "      <td>NaN</td>\n",
       "      <td>Fresh salmon</td>\n",
       "      <td>Fresh and processed fish products</td>\n",
       "      <td>Cut salmon, service</td>\n",
       "      <td>FOOD</td>\n",
       "      <td>train</td>\n",
       "    </tr>\n",
       "  </tbody>\n",
       "</table>\n",
       "</div>"
      ],
      "text/plain": [
       "   CardHolder    ChequeId    CALDAY  Discount  SalesCount  SalesSumma  \\\n",
       "0    10008254  1013172924  20200130    397.28       1.258      927.00   \n",
       "1    13185016   493914559  20181116    174.99       0.982      755.35   \n",
       "2    14790718   246904176  20180404     92.96       0.650      522.84   \n",
       "3    14790718   246904334  20180404     81.33       0.570      458.68   \n",
       "4    15088785   178450469  20180128     49.90       1.044      939.18   \n",
       "\n",
       "   Material  Subcategory  net_weight rpa_wgh1  rpa_wgh2  rpa_wgh3  rpa_wgh4  \\\n",
       "0    299994       130102         0.0     FOOD      13.0      1301  130102.0   \n",
       "1    299994       130102         0.0     FOOD      13.0      1301  130102.0   \n",
       "2    299994       130102         0.0     FOOD      13.0      1301  130102.0   \n",
       "3    299994       130102         0.0     FOOD      13.0      1301  130102.0   \n",
       "4    299994       130102         0.0     FOOD      13.0      1301  130102.0   \n",
       "\n",
       "  unit_of_wt  vendor  engname_rpa3                       engname_rpa2  \\\n",
       "0          G     NaN  Fresh salmon  Fresh and processed fish products   \n",
       "1          G     NaN  Fresh salmon  Fresh and processed fish products   \n",
       "2          G     NaN  Fresh salmon  Fresh and processed fish products   \n",
       "3          G     NaN  Fresh salmon  Fresh and processed fish products   \n",
       "4          G     NaN  Fresh salmon  Fresh and processed fish products   \n",
       "\n",
       "          engname_rpa4 Class eval_sample  \n",
       "0  Cut salmon, service  FOOD       train  \n",
       "1  Cut salmon, service  FOOD       train  \n",
       "2  Cut salmon, service  FOOD       train  \n",
       "3  Cut salmon, service  FOOD       train  \n",
       "4  Cut salmon, service  FOOD       train  "
      ]
     },
     "execution_count": 34,
     "metadata": {},
     "output_type": "execute_result"
    }
   ],
   "source": [
    "retail_data_2 = retail_data\n",
    "train_test_samples(retail_data_2)\n",
    "retail_data_2.head()"
   ]
  },
  {
   "cell_type": "code",
   "execution_count": 73,
   "metadata": {},
   "outputs": [],
   "source": [
    "from scipy.sparse import coo_matrix"
   ]
  },
  {
   "cell_type": "code",
   "execution_count": 6,
   "metadata": {},
   "outputs": [],
   "source": [
    "\n",
    "def get_user_list(df, user_column):    \n",
    "    return np.sort(df[user_column].unique())"
   ]
  },
  {
   "cell_type": "code",
   "execution_count": 7,
   "metadata": {},
   "outputs": [],
   "source": [
    "def get_item_list(df, item_name_column):\n",
    "    \n",
    "    \n",
    "    item_list = df[item_name_column].unique()\n",
    "    \n",
    "    \n",
    "    return item_list"
   ]
  },
  {
   "cell_type": "code",
   "execution_count": 21,
   "metadata": {},
   "outputs": [],
   "source": [
    "def get_feature_list(df, listOfNames):\n",
    "    result = pd.Series([])\n",
    "    for i in listOfNames:\n",
    "        result = pd.concat([result, df[i]], ignore_index = True)\n",
    "    \n",
    "    return result.unique()"
   ]
  },
  {
   "cell_type": "code",
   "execution_count": 14,
   "metadata": {},
   "outputs": [
    {
     "name": "stderr",
     "output_type": "stream",
     "text": [
      "<ipython-input-14-8356a52b9f46>:1: DeprecationWarning: The default dtype for empty Series will be 'object' instead of 'float64' in a future version. Specify a dtype explicitly to silence this warning.\n",
      "  s0 = pd.Series([])\n"
     ]
    }
   ],
   "source": [
    "s0 = pd.Series([])\n",
    "s1 = pd.Series(['a', 'b'])\n",
    "s2 = pd.Series(['c', 'd'])\n",
    "s3 = pd.concat([s1, s2])"
   ]
  },
  {
   "cell_type": "code",
   "execution_count": 22,
   "metadata": {},
   "outputs": [],
   "source": [
    "def id_mappings(user_list, item_list, feature_list):\n",
    "\n",
    "    user_to_index_mapping = {}\n",
    "    index_to_user_mapping = {}\n",
    "    for user_index, user_id in enumerate(user_list):\n",
    "        user_to_index_mapping[user_id] = user_index\n",
    "        index_to_user_mapping[user_index] = user_id\n",
    "        \n",
    "    item_to_index_mapping = {}\n",
    "    index_to_item_mapping = {}\n",
    "    for item_index, item_id in enumerate(item_list):\n",
    "        item_to_index_mapping[item_id] = item_index\n",
    "        index_to_item_mapping[item_index] = item_id\n",
    "        \n",
    "    feature_to_index_mapping = {}\n",
    "    index_to_feature_mapping = {}\n",
    "    for feature_index, feature_id in enumerate(feature_list):\n",
    "        feature_to_index_mapping[feature_id] = feature_index\n",
    "        index_to_feature_mapping[feature_index] = feature_id\n",
    "        \n",
    "        \n",
    "    return user_to_index_mapping, index_to_user_mapping, \\\n",
    "           item_to_index_mapping, index_to_item_mapping, \\\n",
    "           feature_to_index_mapping, index_to_feature_mapping"
   ]
  },
  {
   "cell_type": "code",
   "execution_count": 60,
   "metadata": {},
   "outputs": [],
   "source": [
    "def get_user_product_interaction(main_df):\n",
    "    \n",
    "    # creating a dataframe consists of TWO columns user_id, and product_name (product bought by the user) for the train data\n",
    "    user_to_product_train_df = main_df[main_df[\"eval_sample\"] == \"train\"][[\"CardHolder\", \"Material\"]]\n",
    "#     .\\\n",
    "#     merge(order_products_train_df[[\"order_id\", \"product_id\"]]).merge(products_df[[\"product_id\", \"product_name\"]])\\\n",
    "#     [[\"user_id\", \"product_name\"]].copy()\n",
    "    \n",
    "    # giving rating as the number of product purchase count\n",
    "    user_to_product_train_df[\"product_count\"] = 1\n",
    "    user_to_product_rating_train = user_to_product_train_df.groupby([\"CardHolder\", \"Material\"], as_index = False)[\"product_count\"].sum()\n",
    "    \n",
    "    # creating a dataframe consists of TWO columns user_id, and product_name (product bought by the user) for the test data\n",
    "    user_to_product_test_df = main_df[main_df[\"eval_sample\"] == \"test\"][[\"CardHolder\", \"Material\"]]\n",
    "#     .\\\n",
    "#     merge(order_products_test_df[[\"order_id\", \"product_id\"]]).merge(products_df[[\"product_id\", \"product_name\"]])\\\n",
    "#     [[\"user_id\", \"product_name\"]].copy()\n",
    "    \n",
    "    # giving rating as the number of product purchase count (including the previous purchase in the training data)\n",
    "    user_to_product_test_df[\"product_count\"] = 1\n",
    "    user_to_product_rating_test = user_to_product_test_df.groupby([\"CardHolder\", \"Material\"], as_index = False)[\"product_count\"].sum()\n",
    "    \n",
    "    # merging with the previous training user_to_product_rating_training\n",
    "    \n",
    "    user_to_product_rating_test = user_to_product_rating_test.\\\n",
    "    merge(user_to_product_rating_train.rename(columns = {\"product_count\" : \"previous_product_count\"}), how = \"left\").fillna(0)\n",
    "    user_to_product_rating_test[\"product_count\"] = user_to_product_rating_test.apply(lambda x: x[\"previous_product_count\"] + \\\n",
    "                                                                                    x[\"product_count\"], axis = 1)\n",
    "    user_to_product_rating_test.drop(columns = [\"previous_product_count\"], inplace = True)\n",
    "    \n",
    "    return user_to_product_rating_train, user_to_product_rating_test"
   ]
  },
  {
   "cell_type": "code",
   "execution_count": 74,
   "metadata": {},
   "outputs": [],
   "source": [
    "def get_interaction_matrix(df, df_column_as_row, df_column_as_col, df_column_as_value, row_indexing_map, \n",
    "                          col_indexing_map):\n",
    "    \n",
    "    row = df[df_column_as_row].apply(lambda x: row_indexing_map[x]).values\n",
    "    col = df[df_column_as_col].apply(lambda x: col_indexing_map[x]).values\n",
    "    value = df[df_column_as_value].values\n",
    "    \n",
    "    return coo_matrix((value, (row, col)), shape = (len(row_indexing_map), len(col_indexing_map)))"
   ]
  },
  {
   "cell_type": "code",
   "execution_count": 67,
   "metadata": {},
   "outputs": [],
   "source": [
    "def get_product_feature_interaction(main_df, listOfNames, listOfWeights):\n",
    "#     product_df, aisle_df, department_df, aisle_weight = 1, department_weight = 1):\n",
    "#     item_feature_df = product_df.merge(aisle_df).merge(department_df)[[\"product_name\", \"aisle\", \"department\"]]\n",
    "    \n",
    "    list_prolonged = [\"Material\"]\n",
    "    list_prolonged.extend(listOfNames)\n",
    "    item_feature_df = main_df[list_prolonged]\n",
    "    # start indexing\n",
    "#     item_feature_df[\"product_name\"] = item_feature_df[\"product_name\"]\n",
    "#     item_feature_df[\"aisle\"] = item_feature_df[\"aisle\"]\n",
    "#     item_feature_df[\"department\"] = item_feature_df[\"department\"]\n",
    "    \n",
    "    # allocate aisle and department into one column as \"feature\"\n",
    "    feature_df = pd.Series([])\n",
    "    for nameWeight in zip(listOfNames, listOfWeights):\n",
    "        name = nameWeight[0]\n",
    "        weight = nameWeight[1]\n",
    "        product_feature_df = item_feature_df[[\"Material\", name]].rename(columns = {name : \"feature\"})\n",
    "        product_feature_df[\"feature_count\"] = weight       \n",
    "        feature_df = pd.concat([feature_df, product_feature_df], ignore_index=True)\n",
    "#     product_aisle_df = item_feature_df[[\"product_name\", \"aisle\"]].rename(columns = {\"aisle\" : \"feature\"})\n",
    "#     product_aisle_df[\"feature_count\"] = aisle_weight # adding weight to aisle feature\n",
    "#     product_department_df = item_feature_df[[\"product_name\", \"department\"]].rename(columns = {\"department\" : \"feature\"})\n",
    "#     product_department_df[\"feature_count\"] = department_weight # adding weight to department feature\n",
    "    \n",
    "#     # combining aisle and department into one\n",
    "#     product_feature_df = pd.concat([product_aisle_df, product_department_df], ignore_index=True)\n",
    "    \n",
    "#     # saving some memory\n",
    "#     del item_feature_df\n",
    "#     del product_aisle_df\n",
    "#     del product_department_df\n",
    "    \n",
    "    \n",
    "    # grouping for summing over feature_count\n",
    "    feature_df = feature_df.groupby([\"Material\", \"feature\"], as_index = False)[\"feature_count\"].sum()\n",
    "    \n",
    "    \n",
    "    return feature_df"
   ]
  },
  {
   "cell_type": "code",
   "execution_count": 57,
   "metadata": {},
   "outputs": [
    {
     "name": "stderr",
     "output_type": "stream",
     "text": [
      "<ipython-input-21-8e996483c728>:2: DeprecationWarning: The default dtype for empty Series will be 'object' instead of 'float64' in a future version. Specify a dtype explicitly to silence this warning.\n",
      "  result = pd.Series([])\n"
     ]
    }
   ],
   "source": [
    "users = get_user_list(retail_data_2, \"CardHolder\")\n",
    "items = get_item_list(retail_data_2, \"Material\")\n",
    "features = get_feature_list(retail_data_2, [\"rpa_wgh1\",  \"engname_rpa2\", \"engname_rpa3\", \"engname_rpa4\"])"
   ]
  },
  {
   "cell_type": "code",
   "execution_count": 58,
   "metadata": {},
   "outputs": [
    {
     "data": {
      "text/plain": [
       "array(['FOOD', 'NONFOOD', 'Fresh and processed fish products', ...,\n",
       "       '\"Frozen meat by-products in branded package \"', '\"Rucksacks \"',\n",
       "       'Plastic suitcases'], dtype=object)"
      ]
     },
     "execution_count": 58,
     "metadata": {},
     "output_type": "execute_result"
    }
   ],
   "source": [
    "features"
   ]
  },
  {
   "cell_type": "code",
   "execution_count": 59,
   "metadata": {},
   "outputs": [],
   "source": [
    "user_to_index_mapping, index_to_user_mapping, \\\n",
    "           item_to_index_mapping, index_to_item_mapping, \\\n",
    "           feature_to_index_mapping, index_to_feature_mapping = id_mappings(users, items, features)"
   ]
  },
  {
   "cell_type": "code",
   "execution_count": 62,
   "metadata": {},
   "outputs": [],
   "source": [
    "listOfNames = [\"rpa_wgh1\",  \"engname_rpa2\", \"engname_rpa3\", \"engname_rpa4\"]\n",
    "listOfWeights =  [1,4,2,3]"
   ]
  },
  {
   "cell_type": "code",
   "execution_count": 63,
   "metadata": {},
   "outputs": [],
   "source": [
    "user_to_product_rating_train, user_to_product_rating_test = get_user_product_interaction(retail_data_2)"
   ]
  },
  {
   "cell_type": "code",
   "execution_count": 68,
   "metadata": {},
   "outputs": [
    {
     "name": "stderr",
     "output_type": "stream",
     "text": [
      "<ipython-input-67-e1f70be8e557>:14: DeprecationWarning: The default dtype for empty Series will be 'object' instead of 'float64' in a future version. Specify a dtype explicitly to silence this warning.\n",
      "  feature_df = pd.Series([])\n"
     ]
    }
   ],
   "source": [
    "product_to_feature = get_product_feature_interaction(retail_data_2, listOfNames, listOfWeights)"
   ]
  },
  {
   "cell_type": "code",
   "execution_count": 69,
   "metadata": {},
   "outputs": [
    {
     "data": {
      "text/html": [
       "<div>\n",
       "<style scoped>\n",
       "    .dataframe tbody tr th:only-of-type {\n",
       "        vertical-align: middle;\n",
       "    }\n",
       "\n",
       "    .dataframe tbody tr th {\n",
       "        vertical-align: top;\n",
       "    }\n",
       "\n",
       "    .dataframe thead th {\n",
       "        text-align: right;\n",
       "    }\n",
       "</style>\n",
       "<table border=\"1\" class=\"dataframe\">\n",
       "  <thead>\n",
       "    <tr style=\"text-align: right;\">\n",
       "      <th></th>\n",
       "      <th>CardHolder</th>\n",
       "      <th>Material</th>\n",
       "      <th>product_count</th>\n",
       "    </tr>\n",
       "  </thead>\n",
       "  <tbody>\n",
       "    <tr>\n",
       "      <th>0</th>\n",
       "      <td>10008254</td>\n",
       "      <td>299994</td>\n",
       "      <td>1</td>\n",
       "    </tr>\n",
       "    <tr>\n",
       "      <th>1</th>\n",
       "      <td>10011935</td>\n",
       "      <td>14228</td>\n",
       "      <td>1</td>\n",
       "    </tr>\n",
       "    <tr>\n",
       "      <th>2</th>\n",
       "      <td>10011935</td>\n",
       "      <td>18234</td>\n",
       "      <td>1</td>\n",
       "    </tr>\n",
       "    <tr>\n",
       "      <th>3</th>\n",
       "      <td>10011935</td>\n",
       "      <td>51291</td>\n",
       "      <td>1</td>\n",
       "    </tr>\n",
       "    <tr>\n",
       "      <th>4</th>\n",
       "      <td>10011935</td>\n",
       "      <td>51593</td>\n",
       "      <td>1</td>\n",
       "    </tr>\n",
       "  </tbody>\n",
       "</table>\n",
       "</div>"
      ],
      "text/plain": [
       "   CardHolder  Material  product_count\n",
       "0    10008254    299994              1\n",
       "1    10011935     14228              1\n",
       "2    10011935     18234              1\n",
       "3    10011935     51291              1\n",
       "4    10011935     51593              1"
      ]
     },
     "execution_count": 69,
     "metadata": {},
     "output_type": "execute_result"
    }
   ],
   "source": [
    "user_to_product_rating_train.head()"
   ]
  },
  {
   "cell_type": "code",
   "execution_count": 70,
   "metadata": {},
   "outputs": [
    {
     "data": {
      "text/html": [
       "<div>\n",
       "<style scoped>\n",
       "    .dataframe tbody tr th:only-of-type {\n",
       "        vertical-align: middle;\n",
       "    }\n",
       "\n",
       "    .dataframe tbody tr th {\n",
       "        vertical-align: top;\n",
       "    }\n",
       "\n",
       "    .dataframe thead th {\n",
       "        text-align: right;\n",
       "    }\n",
       "</style>\n",
       "<table border=\"1\" class=\"dataframe\">\n",
       "  <thead>\n",
       "    <tr style=\"text-align: right;\">\n",
       "      <th></th>\n",
       "      <th>CardHolder</th>\n",
       "      <th>Material</th>\n",
       "      <th>product_count</th>\n",
       "    </tr>\n",
       "  </thead>\n",
       "  <tbody>\n",
       "    <tr>\n",
       "      <th>0</th>\n",
       "      <td>10011935</td>\n",
       "      <td>12276</td>\n",
       "      <td>1.0</td>\n",
       "    </tr>\n",
       "    <tr>\n",
       "      <th>1</th>\n",
       "      <td>10011935</td>\n",
       "      <td>12825</td>\n",
       "      <td>1.0</td>\n",
       "    </tr>\n",
       "    <tr>\n",
       "      <th>2</th>\n",
       "      <td>10011935</td>\n",
       "      <td>290306</td>\n",
       "      <td>1.0</td>\n",
       "    </tr>\n",
       "    <tr>\n",
       "      <th>3</th>\n",
       "      <td>10011935</td>\n",
       "      <td>299240</td>\n",
       "      <td>1.0</td>\n",
       "    </tr>\n",
       "    <tr>\n",
       "      <th>4</th>\n",
       "      <td>10011935</td>\n",
       "      <td>299997</td>\n",
       "      <td>1.0</td>\n",
       "    </tr>\n",
       "  </tbody>\n",
       "</table>\n",
       "</div>"
      ],
      "text/plain": [
       "   CardHolder  Material  product_count\n",
       "0    10011935     12276            1.0\n",
       "1    10011935     12825            1.0\n",
       "2    10011935    290306            1.0\n",
       "3    10011935    299240            1.0\n",
       "4    10011935    299997            1.0"
      ]
     },
     "execution_count": 70,
     "metadata": {},
     "output_type": "execute_result"
    }
   ],
   "source": [
    "user_to_product_rating_test.head()"
   ]
  },
  {
   "cell_type": "code",
   "execution_count": 71,
   "metadata": {},
   "outputs": [
    {
     "data": {
      "text/html": [
       "<div>\n",
       "<style scoped>\n",
       "    .dataframe tbody tr th:only-of-type {\n",
       "        vertical-align: middle;\n",
       "    }\n",
       "\n",
       "    .dataframe tbody tr th {\n",
       "        vertical-align: top;\n",
       "    }\n",
       "\n",
       "    .dataframe thead th {\n",
       "        text-align: right;\n",
       "    }\n",
       "</style>\n",
       "<table border=\"1\" class=\"dataframe\">\n",
       "  <thead>\n",
       "    <tr style=\"text-align: right;\">\n",
       "      <th></th>\n",
       "      <th>Material</th>\n",
       "      <th>feature</th>\n",
       "      <th>feature_count</th>\n",
       "    </tr>\n",
       "  </thead>\n",
       "  <tbody>\n",
       "    <tr>\n",
       "      <th>0</th>\n",
       "      <td>11774.0</td>\n",
       "      <td>\"Hot beef meals, own production \"</td>\n",
       "      <td>57.0</td>\n",
       "    </tr>\n",
       "    <tr>\n",
       "      <th>1</th>\n",
       "      <td>11774.0</td>\n",
       "      <td>FOOD</td>\n",
       "      <td>19.0</td>\n",
       "    </tr>\n",
       "    <tr>\n",
       "      <th>2</th>\n",
       "      <td>11774.0</td>\n",
       "      <td>Hot dishes, own production</td>\n",
       "      <td>38.0</td>\n",
       "    </tr>\n",
       "    <tr>\n",
       "      <th>3</th>\n",
       "      <td>11774.0</td>\n",
       "      <td>Own production culinary products</td>\n",
       "      <td>76.0</td>\n",
       "    </tr>\n",
       "    <tr>\n",
       "      <th>4</th>\n",
       "      <td>11800.0</td>\n",
       "      <td>FOOD</td>\n",
       "      <td>107.0</td>\n",
       "    </tr>\n",
       "  </tbody>\n",
       "</table>\n",
       "</div>"
      ],
      "text/plain": [
       "   Material                            feature  feature_count\n",
       "0   11774.0  \"Hot beef meals, own production \"           57.0\n",
       "1   11774.0                               FOOD           19.0\n",
       "2   11774.0         Hot dishes, own production           38.0\n",
       "3   11774.0   Own production culinary products           76.0\n",
       "4   11800.0                               FOOD          107.0"
      ]
     },
     "execution_count": 71,
     "metadata": {},
     "output_type": "execute_result"
    }
   ],
   "source": [
    "\n",
    "product_to_feature.head()"
   ]
  },
  {
   "cell_type": "code",
   "execution_count": 75,
   "metadata": {},
   "outputs": [],
   "source": [
    "\n",
    "# generate user_item_interaction_matrix for train data\n",
    "user_to_product_interaction_train = get_interaction_matrix(user_to_product_rating_train, \"CardHolder\", \n",
    "                                                    \"Material\", \"product_count\", user_to_index_mapping, item_to_index_mapping)\n",
    "\n",
    "# generate user_item_interaction_matrix for test data\n",
    "user_to_product_interaction_test = get_interaction_matrix(user_to_product_rating_test, \"CardHolder\", \n",
    "                                                    \"Material\", \"product_count\", user_to_index_mapping, item_to_index_mapping)\n",
    "\n",
    "# generate item_to_feature interaction\n",
    "product_to_feature_interaction = get_interaction_matrix(product_to_feature, \"Material\", \"feature\",  \"feature_count\", \n",
    "                                                        item_to_index_mapping, feature_to_index_mapping)"
   ]
  },
  {
   "cell_type": "code",
   "execution_count": 76,
   "metadata": {},
   "outputs": [
    {
     "data": {
      "text/plain": [
       "<18977x7251 sparse matrix of type '<class 'numpy.int64'>'\n",
       "\twith 460231 stored elements in COOrdinate format>"
      ]
     },
     "execution_count": 76,
     "metadata": {},
     "output_type": "execute_result"
    }
   ],
   "source": [
    "user_to_product_interaction_train"
   ]
  },
  {
   "cell_type": "code",
   "execution_count": 77,
   "metadata": {},
   "outputs": [
    {
     "data": {
      "text/plain": [
       "<18977x7251 sparse matrix of type '<class 'numpy.float64'>'\n",
       "\twith 148208 stored elements in COOrdinate format>"
      ]
     },
     "execution_count": 77,
     "metadata": {},
     "output_type": "execute_result"
    }
   ],
   "source": [
    "user_to_product_interaction_test"
   ]
  },
  {
   "cell_type": "code",
   "execution_count": 78,
   "metadata": {},
   "outputs": [
    {
     "data": {
      "text/plain": [
       "<7251x1756 sparse matrix of type '<class 'numpy.float64'>'\n",
       "\twith 28954 stored elements in COOrdinate format>"
      ]
     },
     "execution_count": 78,
     "metadata": {},
     "output_type": "execute_result"
    }
   ],
   "source": [
    "product_to_feature_interaction "
   ]
  },
  {
   "cell_type": "code",
   "execution_count": 221,
   "metadata": {},
   "outputs": [],
   "source": [
    "model_without_features = LightFM(loss = \"warp\")"
   ]
  },
  {
   "cell_type": "code",
   "execution_count": 222,
   "metadata": {},
   "outputs": [
    {
     "name": "stdout",
     "output_type": "stream",
     "text": [
      "Epoch 0\n",
      "Epoch 1\n",
      "Epoch 2\n",
      "Epoch 3\n",
      "Epoch 4\n",
      "Epoch 5\n",
      "Epoch 6\n",
      "Epoch 7\n",
      "Epoch 8\n",
      "Epoch 9\n",
      "Epoch 10\n",
      "Epoch 11\n",
      "Epoch 12\n",
      "Epoch 13\n",
      "Epoch 14\n",
      "Epoch 15\n"
     ]
    },
    {
     "data": {
      "text/plain": [
       "<lightfm.lightfm.LightFM at 0x11e516b80>"
      ]
     },
     "execution_count": 222,
     "metadata": {},
     "output_type": "execute_result"
    }
   ],
   "source": [
    "model_without_features.fit(user_to_product_interaction_train,\n",
    "          user_features=None, \n",
    "          item_features=None, \n",
    "          sample_weight=None, \n",
    "          epochs=16, \n",
    "          num_threads=4,\n",
    "          verbose=True)"
   ]
  },
  {
   "cell_type": "code",
   "execution_count": 223,
   "metadata": {},
   "outputs": [],
   "source": [
    "auc_without_features = auc_score(model = model_without_features, \n",
    "                        test_interactions = user_to_product_interaction_test,\n",
    "                        num_threads = 4, check_intersections = False)"
   ]
  },
  {
   "cell_type": "code",
   "execution_count": 224,
   "metadata": {},
   "outputs": [
    {
     "name": "stdout",
     "output_type": "stream",
     "text": [
      "average AUC without adding item-feature interaction = 0.90\n"
     ]
    }
   ],
   "source": [
    "print(\"average AUC without adding item-feature interaction = {0:.{1}f}\".format(auc_without_features.mean(), 2))"
   ]
  },
  {
   "cell_type": "code",
   "execution_count": 84,
   "metadata": {},
   "outputs": [
    {
     "data": {
      "text/plain": [
       "<lightfm.lightfm.LightFM at 0x11e513730>"
      ]
     },
     "execution_count": 84,
     "metadata": {},
     "output_type": "execute_result"
    }
   ],
   "source": [
    "model_with_features = LightFM(loss = \"warp\")\n",
    "model_with_features.fit(user_to_product_interaction_train,\n",
    "          user_features=None, \n",
    "          item_features=product_to_feature_interaction, \n",
    "          sample_weight=None, \n",
    "          epochs=1, \n",
    "          num_threads=4,\n",
    "          verbose=False)"
   ]
  },
  {
   "cell_type": "code",
   "execution_count": 85,
   "metadata": {},
   "outputs": [],
   "source": [
    "auc_with_features = auc_score(model = model_with_features, \n",
    "                        test_interactions = user_to_product_interaction_test,\n",
    "                        train_interactions = user_to_product_interaction_train, \n",
    "                        item_features = product_to_feature_interaction,\n",
    "                        num_threads = 4, check_intersections=False)"
   ]
  },
  {
   "cell_type": "code",
   "execution_count": 86,
   "metadata": {},
   "outputs": [
    {
     "name": "stdout",
     "output_type": "stream",
     "text": [
      "average AUC without adding item-feature interaction = 0.50\n"
     ]
    }
   ],
   "source": [
    "print(\"average AUC without adding item-feature interaction = {0:.{1}f}\".format(auc_with_features.mean(), 2))"
   ]
  },
  {
   "cell_type": "code",
   "execution_count": 87,
   "metadata": {},
   "outputs": [],
   "source": [
    "def combined_train_test(train, test):\n",
    "\n",
    "    # initialising train dict\n",
    "    train_dict = {}\n",
    "    for train_row, train_col, train_data in zip(train.row, train.col, train.data):\n",
    "        train_dict[(train_row, train_col)] = train_data\n",
    "        \n",
    "    # replacing with the test set\n",
    "    \n",
    "    for test_row, test_col, test_data in zip(test.row, test.col, test.data):\n",
    "        train_dict[(test_row, test_col)] = max(test_data, train_dict.get((test_row, test_col), 0))\n",
    "        \n",
    "    \n",
    "    # converting to the row\n",
    "    row_element = []\n",
    "    col_element = []\n",
    "    data_element = []\n",
    "    for row, col in train_dict:\n",
    "        row_element.append(row)\n",
    "        col_element.append(col)\n",
    "        data_element.append(train_dict[(row, col)])\n",
    "        \n",
    "    # converting to np array\n",
    "    \n",
    "    row_element = np.array(row_element)\n",
    "    col_element = np.array(col_element)\n",
    "    data_element = np.array(data_element)\n",
    "    \n",
    "    return coo_matrix((data_element, (row_element, col_element)), shape = (train.shape[0], train.shape[1]))"
   ]
  },
  {
   "cell_type": "code",
   "execution_count": 89,
   "metadata": {},
   "outputs": [],
   "source": [
    "user_to_product_interaction = combined_train_test(user_to_product_interaction_train, \n",
    "                                                 user_to_product_interaction_test)"
   ]
  },
  {
   "cell_type": "code",
   "execution_count": 229,
   "metadata": {},
   "outputs": [],
   "source": [
    "class recommendation_sampling:\n",
    " \n",
    "    def __init__(self, model, items = items, user_to_product_interaction_matrix = user_to_product_interaction, \n",
    "                user2index_map = user_to_index_mapping,  product_to_feature_3 =product_to_feature_3):\n",
    "        \n",
    "        self.user_to_product_interaction_matrix = user_to_product_interaction_matrix\n",
    "        self.model = model\n",
    "        self.items = items\n",
    "        self.user2index_map = user2index_map\n",
    "        self.product_to_feature =product_to_feature_3\n",
    "    \n",
    "    def recommendation_for_user(self, user):\n",
    "        \n",
    "        # getting the userindex\n",
    "        \n",
    "        userindex = self.user2index_map.get(user, None)\n",
    "        \n",
    "        if userindex == None:\n",
    "            return None\n",
    "        \n",
    "        users = [userindex]\n",
    "        \n",
    "        # products already bought\n",
    "        \n",
    "        known_positives = self.items[self.user_to_product_interaction_matrix.tocsr()[userindex].indices]\n",
    "#         print(known_positives.shape)\n",
    "        known_positives_names = [product_to_feature_3.feature[product_to_feature_3['Material'] == i].tolist()[0] for i in known_positives]\n",
    "    #[retail_data[retail_data.Material == i]['engname_rpa3'] for i in known_positives]\n",
    "        # scores from model prediction\n",
    "        scores = self.model.predict(user_ids = users, item_ids = np.arange(self.user_to_product_interaction_matrix.shape[1]))\n",
    "        \n",
    "        # top items\n",
    "        \n",
    "        top_items = self.items[np.argsort(-scores)]\n",
    "#         print(top_items.shape)\n",
    "        top_items_names = [product_to_feature_3.feature[product_to_feature_3['Material'] == i].tolist()[0] for i in top_items]\n",
    "#         print(len(top_items_names[0]),len(top_items_names[1]))\n",
    "        # printing out the result\n",
    "        print(\"User %s\" % user)\n",
    "        print(\"     Known positives:\")\n",
    "        \n",
    "        for x in known_positives_names[:7]:\n",
    "            print(\"                  %s\" % x)\n",
    "            \n",
    "            \n",
    "        print(\"     Recommended:\")\n",
    "        \n",
    "        for x in top_items_names[:7]:\n",
    "            print(\"                  %s\" % x)"
   ]
  },
  {
   "cell_type": "code",
   "execution_count": 230,
   "metadata": {},
   "outputs": [],
   "source": [
    "recom = recommendation_sampling(model = model_without_features)"
   ]
  },
  {
   "cell_type": "code",
   "execution_count": 240,
   "metadata": {},
   "outputs": [
    {
     "data": {
      "text/plain": [
       "11854166"
      ]
     },
     "execution_count": 240,
     "metadata": {},
     "output_type": "execute_result"
    }
   ],
   "source": [
    "retail_data['CardHolder'][117]"
   ]
  },
  {
   "cell_type": "code",
   "execution_count": 241,
   "metadata": {},
   "outputs": [
    {
     "name": "stdout",
     "output_type": "stream",
     "text": [
      "User 11854166\n",
      "     Known positives:\n",
      "                  Fresh salmon\n",
      "                  Fresh salmon\n",
      "                  Factory-made rye, rye and wheat bread\n",
      "                  Own production bread\n",
      "                  Baking own production\n",
      "                  Gingerbread, round cracknels\n",
      "                  Ice cream\n",
      "     Recommended:\n",
      "                  Fresh chicken\n",
      "                  Berries\n",
      "                  Exotic fruit\n",
      "                  Greens\n",
      "                  Fresh chicken\n",
      "                  Chicken eggs\n",
      "                  Fresh salmon\n"
     ]
    }
   ],
   "source": [
    "recom.recommendation_for_user(11854166)"
   ]
  },
  {
   "cell_type": "code",
   "execution_count": null,
   "metadata": {},
   "outputs": [],
   "source": []
  },
  {
   "cell_type": "code",
   "execution_count": null,
   "metadata": {},
   "outputs": [],
   "source": []
  },
  {
   "cell_type": "code",
   "execution_count": 120,
   "metadata": {},
   "outputs": [
    {
     "name": "stderr",
     "output_type": "stream",
     "text": [
      "<ipython-input-67-e1f70be8e557>:14: DeprecationWarning: The default dtype for empty Series will be 'object' instead of 'float64' in a future version. Specify a dtype explicitly to silence this warning.\n",
      "  feature_df = pd.Series([])\n"
     ]
    }
   ],
   "source": [
    "product_to_feature_3 = get_product_feature_interaction(retail_data, [\"engname_rpa3\"], [3])"
   ]
  },
  {
   "cell_type": "code",
   "execution_count": 142,
   "metadata": {},
   "outputs": [
    {
     "name": "stdout",
     "output_type": "stream",
     "text": [
      "<class 'pandas.core.frame.DataFrame'>\n",
      "Int64Index: 7267 entries, 0 to 7266\n",
      "Data columns (total 3 columns):\n",
      " #   Column         Non-Null Count  Dtype  \n",
      "---  ------         --------------  -----  \n",
      " 0   Material       7267 non-null   float64\n",
      " 1   feature        7267 non-null   object \n",
      " 2   feature_count  7267 non-null   float64\n",
      "dtypes: float64(2), object(1)\n",
      "memory usage: 547.1+ KB\n"
     ]
    }
   ],
   "source": [
    "product_to_feature_3.info()"
   ]
  },
  {
   "cell_type": "code",
   "execution_count": 184,
   "metadata": {},
   "outputs": [
    {
     "data": {
      "text/plain": [
       "'Fresh salmon'"
      ]
     },
     "execution_count": 184,
     "metadata": {},
     "output_type": "execute_result"
    }
   ],
   "source": [
    "product_to_feature_3.feature[product_to_feature_3['Material'] == 299994].tolist()[0]"
   ]
  },
  {
   "cell_type": "code",
   "execution_count": null,
   "metadata": {},
   "outputs": [],
   "source": [
    "retail_data_2[[\"Material\"]]"
   ]
  },
  {
   "cell_type": "code",
   "execution_count": 52,
   "metadata": {},
   "outputs": [
    {
     "name": "stdout",
     "output_type": "stream",
     "text": [
      "<class 'pandas.core.frame.DataFrame'>\n",
      "RangeIndex: 995136 entries, 0 to 995135\n",
      "Data columns (total 20 columns):\n",
      " #   Column        Non-Null Count   Dtype  \n",
      "---  ------        --------------   -----  \n",
      " 0   CardHolder    995136 non-null  int64  \n",
      " 1   ChequeId      995136 non-null  int64  \n",
      " 2   CALDAY        995136 non-null  int64  \n",
      " 3   Discount      995136 non-null  float64\n",
      " 4   SalesCount    995136 non-null  float64\n",
      " 5   SalesSumma    995136 non-null  float64\n",
      " 6   Material      995136 non-null  int64  \n",
      " 7   Subcategory   995136 non-null  int64  \n",
      " 8   net_weight    995136 non-null  float64\n",
      " 9   rpa_wgh1      995136 non-null  object \n",
      " 10  rpa_wgh2      995136 non-null  float64\n",
      " 11  rpa_wgh3      995136 non-null  int64  \n",
      " 12  rpa_wgh4      995136 non-null  float64\n",
      " 13  unit_of_wt    995136 non-null  object \n",
      " 14  vendor        910395 non-null  float64\n",
      " 15  engname_rpa3  995136 non-null  object \n",
      " 16  engname_rpa2  995136 non-null  object \n",
      " 17  engname_rpa4  995136 non-null  object \n",
      " 18  Class         995108 non-null  object \n",
      " 19  eval_sample   995136 non-null  object \n",
      "dtypes: float64(7), int64(6), object(7)\n",
      "memory usage: 151.8+ MB\n"
     ]
    }
   ],
   "source": [
    "retail_data_2.info()"
   ]
  },
  {
   "cell_type": "code",
   "execution_count": 48,
   "metadata": {},
   "outputs": [],
   "source": [
    "item_lookup1 = retail_data_2[['Material', 'engname_rpa3']].rename(columns = {\"engname_rpa3\" : \"feature\"})\n",
    "item_lookup2 = retail_data_2[['Material', 'engname_rpa4']].rename(columns = {\"engname_rpa4\" : \"feature\"})\n",
    "product_feature_df = pd.concat([item_lookup1, item_lookup2], ignore_index=True)"
   ]
  },
  {
   "cell_type": "code",
   "execution_count": 49,
   "metadata": {},
   "outputs": [
    {
     "data": {
      "text/html": [
       "<div>\n",
       "<style scoped>\n",
       "    .dataframe tbody tr th:only-of-type {\n",
       "        vertical-align: middle;\n",
       "    }\n",
       "\n",
       "    .dataframe tbody tr th {\n",
       "        vertical-align: top;\n",
       "    }\n",
       "\n",
       "    .dataframe thead th {\n",
       "        text-align: right;\n",
       "    }\n",
       "</style>\n",
       "<table border=\"1\" class=\"dataframe\">\n",
       "  <thead>\n",
       "    <tr style=\"text-align: right;\">\n",
       "      <th></th>\n",
       "      <th>Material</th>\n",
       "      <th>feature</th>\n",
       "    </tr>\n",
       "  </thead>\n",
       "  <tbody>\n",
       "    <tr>\n",
       "      <th>0</th>\n",
       "      <td>299994</td>\n",
       "      <td>Fresh salmon</td>\n",
       "    </tr>\n",
       "    <tr>\n",
       "      <th>1</th>\n",
       "      <td>299994</td>\n",
       "      <td>Fresh salmon</td>\n",
       "    </tr>\n",
       "    <tr>\n",
       "      <th>2</th>\n",
       "      <td>299994</td>\n",
       "      <td>Fresh salmon</td>\n",
       "    </tr>\n",
       "    <tr>\n",
       "      <th>3</th>\n",
       "      <td>299994</td>\n",
       "      <td>Fresh salmon</td>\n",
       "    </tr>\n",
       "    <tr>\n",
       "      <th>4</th>\n",
       "      <td>299994</td>\n",
       "      <td>Fresh salmon</td>\n",
       "    </tr>\n",
       "    <tr>\n",
       "      <th>...</th>\n",
       "      <td>...</td>\n",
       "      <td>...</td>\n",
       "    </tr>\n",
       "    <tr>\n",
       "      <th>1990267</th>\n",
       "      <td>463390</td>\n",
       "      <td>\"Rucksacks \"</td>\n",
       "    </tr>\n",
       "    <tr>\n",
       "      <th>1990268</th>\n",
       "      <td>465374</td>\n",
       "      <td>Plastic suitcases</td>\n",
       "    </tr>\n",
       "    <tr>\n",
       "      <th>1990269</th>\n",
       "      <td>465390</td>\n",
       "      <td>Plastic suitcases</td>\n",
       "    </tr>\n",
       "    <tr>\n",
       "      <th>1990270</th>\n",
       "      <td>465388</td>\n",
       "      <td>Plastic suitcases</td>\n",
       "    </tr>\n",
       "    <tr>\n",
       "      <th>1990271</th>\n",
       "      <td>465391</td>\n",
       "      <td>Plastic suitcases</td>\n",
       "    </tr>\n",
       "  </tbody>\n",
       "</table>\n",
       "<p>1990272 rows × 2 columns</p>\n",
       "</div>"
      ],
      "text/plain": [
       "         Material            feature\n",
       "0          299994       Fresh salmon\n",
       "1          299994       Fresh salmon\n",
       "2          299994       Fresh salmon\n",
       "3          299994       Fresh salmon\n",
       "4          299994       Fresh salmon\n",
       "...           ...                ...\n",
       "1990267    463390       \"Rucksacks \"\n",
       "1990268    465374  Plastic suitcases\n",
       "1990269    465390  Plastic suitcases\n",
       "1990270    465388  Plastic suitcases\n",
       "1990271    465391  Plastic suitcases\n",
       "\n",
       "[1990272 rows x 2 columns]"
      ]
     },
     "execution_count": 49,
     "metadata": {},
     "output_type": "execute_result"
    }
   ],
   "source": [
    "product_feature_df "
   ]
  },
  {
   "cell_type": "code",
   "execution_count": 16,
   "metadata": {},
   "outputs": [
    {
     "data": {
      "text/plain": [
       "array(['a', 'b'], dtype=object)"
      ]
     },
     "execution_count": 16,
     "metadata": {},
     "output_type": "execute_result"
    }
   ],
   "source": [
    "pd.concat([s1, s0],  ignore_index=True).unique()"
   ]
  },
  {
   "cell_type": "code",
   "execution_count": 11,
   "metadata": {},
   "outputs": [
    {
     "data": {
      "text/plain": [
       "0    a\n",
       "1    b\n",
       "0    c\n",
       "1    d\n",
       "dtype: object"
      ]
     },
     "execution_count": 11,
     "metadata": {},
     "output_type": "execute_result"
    }
   ],
   "source": [
    "s3"
   ]
  },
  {
   "cell_type": "code",
   "execution_count": 20,
   "metadata": {},
   "outputs": [
    {
     "name": "stdout",
     "output_type": "stream",
     "text": [
      "1\n",
      "2\n",
      "3\n",
      "4\n"
     ]
    }
   ],
   "source": [
    "def func(array):\n",
    "    for i in array:\n",
    "        print(i)\n",
    "array = ['1', '2', '3', '4']\n",
    "func(array)"
   ]
  },
  {
   "cell_type": "code",
   "execution_count": null,
   "metadata": {},
   "outputs": [],
   "source": [
    "cleaned_retail = retail_data.loc[pd.isnull(retail_data.CardHolder) == False]\n",
    "# cleaned_retail['SalesCount'] = cleaned_retail.SalesCount.astype(int) # Convert to int for customer ID\n",
    "cleaned_retail_2 = cleaned_retail[['Material', 'SalesCount', 'CardHolder']] # Get rid of unnecessary info\n",
    "grouped_cleaned = cleaned_retail_2.groupby(['CardHolder', 'Material']).sum().reset_index() # Group together\n",
    "grouped_cleaned.SalesCount.loc[grouped_cleaned.SalesCount == 0] = 1 # Replace a sum of zero purchases with a one to\n",
    "# indicate purchased\n",
    "grouped_purchased = grouped_cleaned.query('SalesCount > 0')"
   ]
  }
 ],
 "metadata": {
  "kernelspec": {
   "display_name": "Python 3",
   "language": "python",
   "name": "python3"
  },
  "language_info": {
   "codemirror_mode": {
    "name": "ipython",
    "version": 3
   },
   "file_extension": ".py",
   "mimetype": "text/x-python",
   "name": "python",
   "nbconvert_exporter": "python",
   "pygments_lexer": "ipython3",
   "version": "3.8.2"
  }
 },
 "nbformat": 4,
 "nbformat_minor": 4
}
